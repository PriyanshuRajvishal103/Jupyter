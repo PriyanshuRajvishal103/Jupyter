{
  "metadata": {
    "language_info": {
      "codemirror_mode": {
        "name": "python",
        "version": 3
      },
      "file_extension": ".py",
      "mimetype": "text/x-python",
      "name": "python",
      "nbconvert_exporter": "python",
      "pygments_lexer": "ipython3",
      "version": "3.8"
    },
    "kernelspec": {
      "name": "python",
      "display_name": "Python (Pyodide)",
      "language": "python"
    }
  },
  "nbformat_minor": 4,
  "nbformat": 4,
  "cells": [
    {
      "cell_type": "markdown",
      "source": "print(\"Hello\")",
      "metadata": {}
    },
    {
      "cell_type": "markdown",
      "source": "#Data Science Tools and Ecosystem\n",
      "metadata": {}
    },
    {
      "cell_type": "markdown",
      "source": "#In this notebook, Data Science Tools and Ecosystem are summarized.",
      "metadata": {}
    },
    {
      "cell_type": "markdown",
      "source": "#Some of the popular languages that Data Scientists use are:",
      "metadata": {}
    },
    {
      "cell_type": "markdown",
      "source": "python\nsql\nR\nJava",
      "metadata": {}
    },
    {
      "cell_type": "markdown",
      "source": "#Some of the commonly used libraries used by Data Scientists include:",
      "metadata": {}
    },
    {
      "cell_type": "markdown",
      "source": "NumPy\nPandas\nMatplotlib\nSeaborn\nTensorFlow",
      "metadata": {}
    },
    {
      "cell_type": "markdown",
      "source": "#Table\n| Data Science Tools        |\n|---------------------------|\n| Jupyter Notebook          |\n| RStudio                   |\n| Visual Studio Code (VSCode)|\n",
      "metadata": {}
    },
    {
      "cell_type": "markdown",
      "source": "#Below are a few examples of evaluating arithmetic expressions in Python\n1+2+3*34*1/2",
      "metadata": {}
    },
    {
      "cell_type": "code",
      "source": "#multiply\n(3*4)+5",
      "metadata": {
        "trusted": true
      },
      "execution_count": 4,
      "outputs": [
        {
          "execution_count": 4,
          "output_type": "execute_result",
          "data": {
            "text/plain": "17"
          },
          "metadata": {}
        }
      ]
    },
    {
      "cell_type": "code",
      "source": "#converting minutes into hours\n200/60",
      "metadata": {
        "trusted": true
      },
      "execution_count": 5,
      "outputs": [
        {
          "execution_count": 5,
          "output_type": "execute_result",
          "data": {
            "text/plain": "3.3333333333333335"
          },
          "metadata": {}
        }
      ]
    },
    {
      "cell_type": "markdown",
      "source": "**Objectives:**\n\n- List popular languages for Data Science.\n- Introduce commonly used libraries by Data Scientists.\n- Create a markdown cell with a table of Data Science tools.\n- Introduce examples of evaluating arithmetic expressions in Python.\n- Practice taking screenshots in Jupyter Notebook.\n",
      "metadata": {}
    },
    {
      "cell_type": "code",
      "source": "#Priyanshu Raj\n\n\n\n",
      "metadata": {
        "trusted": true
      },
      "execution_count": 8,
      "outputs": []
    },
    {
      "cell_type": "code",
      "source": "",
      "metadata": {},
      "execution_count": null,
      "outputs": []
    }
  ]
}